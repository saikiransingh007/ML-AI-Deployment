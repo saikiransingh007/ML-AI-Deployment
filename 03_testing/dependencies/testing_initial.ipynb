{
 "cells": [
  {
   "cell_type": "code",
   "execution_count": null,
   "id": "041d8f4a",
   "metadata": {},
   "outputs": [],
   "source": [
    "import pandas as pd\n",
    "import numpy as np\n",
    "from pandas_profiling import ProfileReport"
   ]
  },
  {
   "cell_type": "code",
   "execution_count": null,
   "id": "de5739be",
   "metadata": {},
   "outputs": [],
   "source": [
    "# Get data from the link\n",
    "csv_url =\\\n",
    "    'http://archive.ics.uci.edu/ml/machine-learning-databases/wine-quality/winequality-red.csv'\n",
    "\n",
    "data = pd.read_csv(csv_url, sep=';')"
   ]
  },
  {
   "cell_type": "markdown",
   "id": "4f7b071f",
   "metadata": {},
   "source": [
    "## Simple inspection"
   ]
  },
  {
   "cell_type": "code",
   "execution_count": null,
   "id": "b5942f70",
   "metadata": {},
   "outputs": [],
   "source": [
    "# with pandas\n",
    "data.describe()"
   ]
  },
  {
   "cell_type": "code",
   "execution_count": null,
   "id": "2be39336",
   "metadata": {},
   "outputs": [],
   "source": [
    "# Generate the profile report with Pandas Profiling\n",
    "profile = ProfileReport(\n",
    "    data,\n",
    "    title=\"Example of summarization of wine data\"\n",
    ")\n"
   ]
  },
  {
   "cell_type": "code",
   "execution_count": null,
   "id": "5c9ca5c1",
   "metadata": {},
   "outputs": [],
   "source": [
    "#profile.to_notebook_iframe()"
   ]
  },
  {
   "cell_type": "markdown",
   "id": "393c67d2",
   "metadata": {},
   "source": [
    "## Unit tests"
   ]
  },
  {
   "cell_type": "markdown",
   "id": "7b3dc81c",
   "metadata": {},
   "source": [
    "### Basic examples - function tests\n",
    "\n",
    "We will learn how the unit test work on  a simple function. First, we will define a function `square`, which returns the square of a number. Then, we will test it by writing assertions (correct answers) in a test function. "
   ]
  },
  {
   "cell_type": "code",
   "execution_count": null,
   "id": "f6c95486",
   "metadata": {},
   "outputs": [],
   "source": [
    "import pytest\n",
    "\n",
    "# install the following to be able to run the tests in notebook\n",
    "import ipytest\n",
    "ipytest.autoconfig()"
   ]
  },
  {
   "cell_type": "code",
   "execution_count": null,
   "id": "7a603790",
   "metadata": {},
   "outputs": [],
   "source": [
    "# A simple function: calculate square of a number\n",
    "def square(x):\n",
    "    return x * x"
   ]
  },
  {
   "cell_type": "code",
   "execution_count": null,
   "id": "9b0244b4",
   "metadata": {},
   "outputs": [],
   "source": [
    "%%run_pytest[clean]\n",
    "\n",
    "# Let's test the function\n",
    "# Think about the limit cases\n",
    "def test_square():\n",
    "    assert square(2) == 4\n",
    "    assert square(0) == 0\n",
    "    assert square(-2) == 4\n"
   ]
  },
  {
   "cell_type": "markdown",
   "id": "6848e499",
   "metadata": {},
   "source": [
    "Make the test fail to be sure to understand how it works."
   ]
  },
  {
   "cell_type": "markdown",
   "id": "a503c2e0",
   "metadata": {},
   "source": [
    "### Basic examples - data tests\n",
    "\n",
    "As we did for the function, we can also write assertions for the data. In the following example we will define a data frame on the fly and thest for the null values in it. "
   ]
  },
  {
   "cell_type": "code",
   "execution_count": null,
   "id": "505ab5da",
   "metadata": {},
   "outputs": [],
   "source": [
    "%%run_pytest[clean]\n",
    "\n",
    "def test_column_is_null():\n",
    "    df = pd.DataFrame(data = [(1, 0), (2, None)],\n",
    "                      columns = ['a', 'b'])\n",
    "    \n",
    "    assert np.all(pd.notna(df))"
   ]
  },
  {
   "cell_type": "markdown",
   "id": "58f64b55",
   "metadata": {},
   "source": [
    "## Test the wine data\n",
    "\n",
    "Previously, we generated the data frame inside the test function. If we want to run multiple tests on the same df, we would rather pass it to each function as an argument (as usual in programming). To do that in testing, we need to define the data as **fixtures**. They look like ordinary function definitions, preceeded by a decorator `@pytest.fixture`. "
   ]
  },
  {
   "cell_type": "markdown",
   "id": "5de0a0d3",
   "metadata": {},
   "source": [
    "### Raw data tests"
   ]
  },
  {
   "cell_type": "code",
   "execution_count": null,
   "id": "84fd1d34",
   "metadata": {},
   "outputs": [],
   "source": [
    "# Define fixtures\n",
    "@pytest.fixture\n",
    "def input_schema():\n",
    "    # Define range and type for each column\n",
    "    schema = {\n",
    "    'fixed acidity': {'min': 1.0, 'max': 17.0, 'type': float},\n",
    "    'volatile acidity': {'min': 0.0, 'max': 2.0, 'type': float},\n",
    "    'citric acid': {'min': 0.0, 'max': 2.0, 'type': float},\n",
    "    'residual sugar': {'min': 0.5, 'max': 17.0, 'type': float},\n",
    "    'chlorides': {'min': 0.0, 'max': 17.0, 'type': float},\n",
    "    'free sulfur dioxide': {'min': 0.0, 'max': 80.0, 'type': float},\n",
    "    'total sulfur dioxide': {'min': 0.0, 'max': 300.0, 'type': float},\n",
    "    'density': {'min': 0.8, 'max': 1.1, 'type': float},\n",
    "    'pH': {'min': 1.0, 'max': 10.0, 'type': float},\n",
    "    'sulphates': {'min': 0.0, 'max': 2.0, 'type': float},\n",
    "    'alcohol': {'min': 7.0, 'max': 17.0, 'type': float},\n",
    "    'quality': {'min': 1, 'max': 10, 'type': int},\n",
    "    }\n",
    "    return schema\n",
    "\n",
    "\n",
    "# Download the data\n",
    "@pytest.fixture\n",
    "def input_data():\n",
    "    csv_url =\\\n",
    "    'http://archive.ics.uci.edu/ml/machine-learning-databases/wine-quality/winequality-red.csv'\n",
    "    data = pd.read_csv(csv_url, sep=';')\n",
    "    return data"
   ]
  },
  {
   "cell_type": "markdown",
   "id": "cfeb744b",
   "metadata": {},
   "source": [
    "Write the following tests:\n",
    "- is the number of columns in the data frame the same as in schema definition?\n",
    "- are the values within defined ranges?\n",
    "- are the types of the columns correct?"
   ]
  },
  {
   "cell_type": "code",
   "execution_count": null,
   "id": "83ae39c3",
   "metadata": {},
   "outputs": [],
   "source": [
    "%%run_pytest[clean]\n",
    "\n",
    "def test_number_of_columns(input_data, input_schema):\n",
    "    \n",
    "    # assert that the column number is the same as the length of the schema\n",
    "\n",
    "\n",
    "def test_input_data_ranges(input_data, input_schema):\n",
    "    \n",
    "    # find min and max value for each column\n",
    "    # read min and max value for each column from schema\n",
    "\n",
    "    # for min value of the column: assert that it's always greater or equal than the min from the schema\n",
    "    # for max value of the column: assert that it's always lesser or equal than the max from the schema\n",
    "        \n",
    "        \n",
    "def test_input_types(input_data, input_schema):\n",
    "    \n",
    "    # find the type of each column in the df\n",
    "    # read the type for each column from schema\n",
    "\n",
    "    # assert that the type of the column is the same as defined in the schema\n",
    "    \n",
    "\n",
    "    "
   ]
  },
  {
   "cell_type": "markdown",
   "id": "222b64a2",
   "metadata": {},
   "source": [
    "### Feature engineering tests"
   ]
  },
  {
   "cell_type": "markdown",
   "id": "5451b47b",
   "metadata": {},
   "source": [
    "**NOTE:** Data transformaton should be done only on test dataset. You fit the transformer on the test dataset and then apply it on the train dataset. Since we are only illustrating the functioning of the unit testing, we will do it on the whole dataset."
   ]
  },
  {
   "cell_type": "code",
   "execution_count": null,
   "id": "384740a9",
   "metadata": {},
   "outputs": [],
   "source": [
    "from sklearn.preprocessing import StandardScaler\n",
    "from numpy import mean, std"
   ]
  },
  {
   "cell_type": "code",
   "execution_count": null,
   "id": "944bc888",
   "metadata": {},
   "outputs": [],
   "source": [
    "# Let's transform a column...\n",
    "\n",
    "# define standard scaler\n",
    "scaler = StandardScaler()\n",
    "# transform data\n",
    "scaled = scaler.fit_transform(data[['alcohol']])\n",
    "print(scaled)"
   ]
  },
  {
   "cell_type": "code",
   "execution_count": null,
   "id": "23411d94",
   "metadata": {},
   "outputs": [],
   "source": [
    "# And check the stats...\n",
    "print('mean:', mean(scaled))\n",
    "print('std:', std(scaled))"
   ]
  },
  {
   "cell_type": "code",
   "execution_count": null,
   "id": "b39a5727",
   "metadata": {},
   "outputs": [],
   "source": [
    "@pytest.fixture\n",
    "def scaled_alcohol():\n",
    "    csv_url =\\\n",
    "    'http://archive.ics.uci.edu/ml/machine-learning-databases/wine-quality/winequality-red.csv'\n",
    "    data = pd.read_csv(csv_url, sep=';')\n",
    "    \n",
    "    # Define scaler\n",
    "    scaler = StandardScaler()\n",
    "    # Transform data\n",
    "    scaled = scaler.fit_transform(data[['alcohol']])\n",
    "    return scaled"
   ]
  },
  {
   "cell_type": "code",
   "execution_count": null,
   "id": "369b7dea",
   "metadata": {},
   "outputs": [],
   "source": [
    "%%run_pytest[clean]\n",
    "# Test: is mean around zero and std around one?\n",
    "\n",
    "def test_scaled_mean_zero(scaled_alcohol):\n",
    "    \n",
    "    mean_val = mean(scaled_alcohol)\n",
    "    std_val = std(scaled_alcohol)\n",
    "    \n",
    "    assert pytest.approx(mean_val) == 0.0\n",
    "    assert pytest.approx(std_val) == 1.0\n"
   ]
  },
  {
   "cell_type": "markdown",
   "id": "97c78184",
   "metadata": {},
   "source": [
    "## Additional exercises:\n",
    "\n",
    "- implement and Test MinMaxScaler\n",
    "- test null on 'quality'\n",
    "- repeat the tests on synthetic data"
   ]
  },
  {
   "cell_type": "code",
   "execution_count": null,
   "id": "e908b64b",
   "metadata": {},
   "outputs": [],
   "source": []
  }
 ],
 "metadata": {
  "kernelspec": {
   "display_name": "Python 3 (ipykernel)",
   "language": "python",
   "name": "python3"
  },
  "language_info": {
   "codemirror_mode": {
    "name": "ipython",
    "version": 3
   },
   "file_extension": ".py",
   "mimetype": "text/x-python",
   "name": "python",
   "nbconvert_exporter": "python",
   "pygments_lexer": "ipython3",
   "version": "3.9.5"
  }
 },
 "nbformat": 4,
 "nbformat_minor": 5
}
